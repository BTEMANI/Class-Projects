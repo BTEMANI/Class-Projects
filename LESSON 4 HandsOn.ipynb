{
 "cells": [
  {
   "cell_type": "markdown",
   "id": "4683cc87-8afe-4d13-8664-980014995643",
   "metadata": {},
   "source": [
    "## Load in Data"
   ]
  },
  {
   "cell_type": "code",
   "execution_count": 1,
   "id": "1ccf3156-2631-4a37-85ee-86a5549432bb",
   "metadata": {},
   "outputs": [],
   "source": [
    "library(readr)"
   ]
  },
  {
   "cell_type": "code",
   "execution_count": 3,
   "id": "0955eaf1-09e1-493e-9e76-7ec1d29e58f7",
   "metadata": {},
   "outputs": [
    {
     "name": "stderr",
     "output_type": "stream",
     "text": [
      "\u001b[1mRows: \u001b[22m\u001b[34m15\u001b[39m \u001b[1mColumns: \u001b[22m\u001b[34m6\u001b[39m\n",
      "\u001b[36m──\u001b[39m \u001b[1mColumn specification\u001b[22m \u001b[36m────────────────────────────────────────────────────────\u001b[39m\n",
      "\u001b[1mDelimiter:\u001b[22m \",\"\n",
      "\u001b[32mdbl\u001b[39m (6): Test1, Test2, Test3, Test4, Test5, IQ\n",
      "\n",
      "\u001b[36mℹ\u001b[39m Use `spec()` to retrieve the full column specification for this data.\n",
      "\u001b[36mℹ\u001b[39m Specify the column types or set `show_col_types = FALSE` to quiet this message.\n"
     ]
    }
   ],
   "source": [
    "IQ<-read_csv('/Users/korigray/Desktop/Data-Science-Program/DS106-Machine Learning/L4/IQ.csv')"
   ]
  },
  {
   "cell_type": "code",
   "execution_count": 5,
   "id": "cfd7a69b-3705-43d0-a384-6dc65c5f9bdb",
   "metadata": {},
   "outputs": [
    {
     "data": {
      "text/html": [
       "<table class=\"dataframe\">\n",
       "<caption>A tibble: 6 × 6</caption>\n",
       "<thead>\n",
       "\t<tr><th scope=col>Test1</th><th scope=col>Test2</th><th scope=col>Test3</th><th scope=col>Test4</th><th scope=col>Test5</th><th scope=col>IQ</th></tr>\n",
       "\t<tr><th scope=col>&lt;dbl&gt;</th><th scope=col>&lt;dbl&gt;</th><th scope=col>&lt;dbl&gt;</th><th scope=col>&lt;dbl&gt;</th><th scope=col>&lt;dbl&gt;</th><th scope=col>&lt;dbl&gt;</th></tr>\n",
       "</thead>\n",
       "<tbody>\n",
       "\t<tr><td>83</td><td>34</td><td>65</td><td>63</td><td>64</td><td>106</td></tr>\n",
       "\t<tr><td>73</td><td>19</td><td>73</td><td>48</td><td>82</td><td> 92</td></tr>\n",
       "\t<tr><td>54</td><td>81</td><td>82</td><td>65</td><td>73</td><td>102</td></tr>\n",
       "\t<tr><td>96</td><td>72</td><td>91</td><td>88</td><td>94</td><td>121</td></tr>\n",
       "\t<tr><td>84</td><td>53</td><td>72</td><td>68</td><td>82</td><td>102</td></tr>\n",
       "\t<tr><td>86</td><td>72</td><td>63</td><td>79</td><td>57</td><td>105</td></tr>\n",
       "</tbody>\n",
       "</table>\n"
      ],
      "text/latex": [
       "A tibble: 6 × 6\n",
       "\\begin{tabular}{llllll}\n",
       " Test1 & Test2 & Test3 & Test4 & Test5 & IQ\\\\\n",
       " <dbl> & <dbl> & <dbl> & <dbl> & <dbl> & <dbl>\\\\\n",
       "\\hline\n",
       "\t 83 & 34 & 65 & 63 & 64 & 106\\\\\n",
       "\t 73 & 19 & 73 & 48 & 82 &  92\\\\\n",
       "\t 54 & 81 & 82 & 65 & 73 & 102\\\\\n",
       "\t 96 & 72 & 91 & 88 & 94 & 121\\\\\n",
       "\t 84 & 53 & 72 & 68 & 82 & 102\\\\\n",
       "\t 86 & 72 & 63 & 79 & 57 & 105\\\\\n",
       "\\end{tabular}\n"
      ],
      "text/markdown": [
       "\n",
       "A tibble: 6 × 6\n",
       "\n",
       "| Test1 &lt;dbl&gt; | Test2 &lt;dbl&gt; | Test3 &lt;dbl&gt; | Test4 &lt;dbl&gt; | Test5 &lt;dbl&gt; | IQ &lt;dbl&gt; |\n",
       "|---|---|---|---|---|---|\n",
       "| 83 | 34 | 65 | 63 | 64 | 106 |\n",
       "| 73 | 19 | 73 | 48 | 82 |  92 |\n",
       "| 54 | 81 | 82 | 65 | 73 | 102 |\n",
       "| 96 | 72 | 91 | 88 | 94 | 121 |\n",
       "| 84 | 53 | 72 | 68 | 82 | 102 |\n",
       "| 86 | 72 | 63 | 79 | 57 | 105 |\n",
       "\n"
      ],
      "text/plain": [
       "  Test1 Test2 Test3 Test4 Test5 IQ \n",
       "1 83    34    65    63    64    106\n",
       "2 73    19    73    48    82     92\n",
       "3 54    81    82    65    73    102\n",
       "4 96    72    91    88    94    121\n",
       "5 84    53    72    68    82    102\n",
       "6 86    72    63    79    57    105"
      ]
     },
     "metadata": {},
     "output_type": "display_data"
    }
   ],
   "source": [
    "head(IQ)"
   ]
  },
  {
   "cell_type": "markdown",
   "id": "0d69f2cd-116c-471e-a1d1-7b3f4634685d",
   "metadata": {},
   "source": [
    "## Backward Selection"
   ]
  },
  {
   "cell_type": "code",
   "execution_count": 6,
   "id": "ccfa974a-42e6-4559-b6be-672656c69162",
   "metadata": {},
   "outputs": [],
   "source": [
    "FitAll1 <- lm(IQ ~ ., data = IQ)"
   ]
  },
  {
   "cell_type": "code",
   "execution_count": 7,
   "id": "7a54bb09-dbaf-4a00-82aa-6994762132f9",
   "metadata": {},
   "outputs": [
    {
     "data": {
      "text/plain": [
       "\n",
       "Call:\n",
       "lm(formula = IQ ~ ., data = IQ)\n",
       "\n",
       "Residuals:\n",
       "    Min      1Q  Median      3Q     Max \n",
       "-10.255  -5.661  -2.414   3.576  22.154 \n",
       "\n",
       "Coefficients:\n",
       "            Estimate Std. Error t value Pr(>|t|)   \n",
       "(Intercept) 85.24038   23.69513   3.597  0.00577 **\n",
       "Test1       -1.93357    1.02910  -1.879  0.09297 . \n",
       "Test2       -1.65988    0.87290  -1.902  0.08966 . \n",
       "Test3        0.10495    0.21990   0.477  0.64454   \n",
       "Test4        3.77838    1.83450   2.060  0.06952 . \n",
       "Test5       -0.04058    0.20122  -0.202  0.84467   \n",
       "---\n",
       "Signif. codes:  0 ‘***’ 0.001 ‘**’ 0.01 ‘*’ 0.05 ‘.’ 0.1 ‘ ’ 1\n",
       "\n",
       "Residual standard error: 10.65 on 9 degrees of freedom\n",
       "Multiple R-squared:  0.3991,\tAdjusted R-squared:  0.06522 \n",
       "F-statistic: 1.195 on 5 and 9 DF,  p-value: 0.3835\n"
      ]
     },
     "metadata": {},
     "output_type": "display_data"
    }
   ],
   "source": [
    "summary(FitAll1)"
   ]
  },
  {
   "cell_type": "code",
   "execution_count": 8,
   "id": "da12a442-ca66-4f9b-b6b3-6de1dfbb03d2",
   "metadata": {},
   "outputs": [
    {
     "name": "stdout",
     "output_type": "stream",
     "text": [
      "Start:  AIC=75.31\n",
      "IQ ~ Test1 + Test2 + Test3 + Test4 + Test5\n",
      "\n",
      "        Df Sum of Sq    RSS    AIC\n",
      "- Test5  1      4.61 1025.8 73.378\n",
      "- Test3  1     25.85 1047.0 73.685\n",
      "<none>               1021.2 75.310\n",
      "- Test1  1    400.56 1421.7 78.274\n",
      "- Test2  1    410.29 1431.5 78.376\n",
      "- Test4  1    481.32 1502.5 79.103\n",
      "\n",
      "Step:  AIC=73.38\n",
      "IQ ~ Test1 + Test2 + Test3 + Test4\n",
      "\n",
      "        Df Sum of Sq    RSS    AIC\n",
      "- Test3  1     21.24 1047.0 71.685\n",
      "<none>               1025.8 73.378\n",
      "- Test1  1    403.17 1429.0 76.350\n",
      "- Test2  1    406.47 1432.3 76.384\n",
      "- Test4  1    481.26 1507.1 77.148\n",
      "\n",
      "Step:  AIC=71.69\n",
      "IQ ~ Test1 + Test2 + Test4\n",
      "\n",
      "        Df Sum of Sq    RSS    AIC\n",
      "<none>               1047.0 71.685\n",
      "- Test2  1    406.25 1453.3 74.603\n",
      "- Test1  1    415.39 1462.4 74.697\n",
      "- Test4  1    484.13 1531.2 75.386\n"
     ]
    },
    {
     "data": {
      "text/plain": [
       "\n",
       "Call:\n",
       "lm(formula = IQ ~ Test1 + Test2 + Test4, data = IQ)\n",
       "\n",
       "Coefficients:\n",
       "(Intercept)        Test1        Test2        Test4  \n",
       "     90.733       -1.965       -1.649        3.789  \n"
      ]
     },
     "metadata": {},
     "output_type": "display_data"
    }
   ],
   "source": [
    "step(FitAll1, direction = 'backward')\n"
   ]
  },
  {
   "cell_type": "markdown",
   "id": "1ffb7f6b-913c-42e7-a009-fa11c58e44d1",
   "metadata": {},
   "source": [
    "## Create another model for only selected variables and compare their results"
   ]
  },
  {
   "cell_type": "code",
   "execution_count": 9,
   "id": "024a6d6a-13a0-43c9-87b8-0fa84c1cb7d0",
   "metadata": {},
   "outputs": [
    {
     "data": {
      "text/plain": [
       "\n",
       "Call:\n",
       "lm(formula = IQ ~ Test1 + Test2 + Test4, data = IQ)\n",
       "\n",
       "Residuals:\n",
       "     Min       1Q   Median       3Q      Max \n",
       "-10.9184  -6.8179  -0.9142   4.3920  21.1950 \n",
       "\n",
       "Coefficients:\n",
       "            Estimate Std. Error t value Pr(>|t|)    \n",
       "(Intercept)  90.7327    12.8272   7.073 2.06e-05 ***\n",
       "Test1        -1.9650     0.9406  -2.089   0.0607 .  \n",
       "Test2        -1.6485     0.7980  -2.066   0.0632 .  \n",
       "Test4         3.7890     1.6801   2.255   0.0455 *  \n",
       "---\n",
       "Signif. codes:  0 ‘***’ 0.001 ‘**’ 0.01 ‘*’ 0.05 ‘.’ 0.1 ‘ ’ 1\n",
       "\n",
       "Residual standard error: 9.756 on 11 degrees of freedom\n",
       "Multiple R-squared:  0.3839,\tAdjusted R-squared:  0.2158 \n",
       "F-statistic: 2.284 on 3 and 11 DF,  p-value: 0.1356\n"
      ]
     },
     "metadata": {},
     "output_type": "display_data"
    }
   ],
   "source": [
    "fitsome <- lm(IQ ~ Test1 + Test2 + Test4, data = IQ)\n",
    "summary(fitsome)"
   ]
  },
  {
   "cell_type": "markdown",
   "id": "776e3521-bd33-4079-afd2-172bbd35a632",
   "metadata": {},
   "source": []
  },
  {
   "cell_type": "markdown",
   "id": "c0834adb-9c6b-4584-a8d1-1302123b7c8c",
   "metadata": {},
   "source": [
    "## Part II: Compare Stepwise Regression Types"
   ]
  },
  {
   "cell_type": "markdown",
   "id": "924d6ed7-2d0e-4f45-b12b-a7e3bbe38b82",
   "metadata": {},
   "source": [
    "## Backward Selection"
   ]
  },
  {
   "cell_type": "code",
   "execution_count": 14,
   "id": "013df78f-f46f-43b1-a313-b5a9f1960f17",
   "metadata": {},
   "outputs": [
    {
     "name": "stderr",
     "output_type": "stream",
     "text": [
      "\u001b[1mRows: \u001b[22m\u001b[34m128\u001b[39m \u001b[1mColumns: \u001b[22m\u001b[34m13\u001b[39m\n",
      "\u001b[36m──\u001b[39m \u001b[1mColumn specification\u001b[22m \u001b[36m────────────────────────────────────────────────────────\u001b[39m\n",
      "\u001b[1mDelimiter:\u001b[22m \",\"\n",
      "\u001b[32mdbl\u001b[39m (13): Y, X1, X2, X3, X4, X5, X6, X7, X8, X9, X10, X11, X12\n",
      "\n",
      "\u001b[36mℹ\u001b[39m Use `spec()` to retrieve the full column specification for this data.\n",
      "\u001b[36mℹ\u001b[39m Specify the column types or set `show_col_types = FALSE` to quiet this message.\n"
     ]
    }
   ],
   "source": [
    "SWR<-read_csv('/Users/korigray/Desktop/Data-Science-Program/DS106-Machine Learning/L4/stepwiseRegression.csv')"
   ]
  },
  {
   "cell_type": "code",
   "execution_count": 15,
   "id": "3fcfe443-0b7c-4cd3-8a2d-c4d9f526f036",
   "metadata": {},
   "outputs": [
    {
     "data": {
      "text/plain": [
       "\n",
       "Call:\n",
       "lm(formula = Y ~ ., data = SWR)\n",
       "\n",
       "Residuals:\n",
       "    Min      1Q  Median      3Q     Max \n",
       "-5.1410 -1.7124 -0.1732  1.5415  4.9986 \n",
       "\n",
       "Coefficients:\n",
       "              Estimate Std. Error  t value Pr(>|t|)    \n",
       "(Intercept)  1.410e+03  1.496e+01   94.260   <2e-16 ***\n",
       "X1          -9.897e-03  1.815e-02   -0.545   0.5865    \n",
       "X2          -7.567e-02  4.301e-02   -1.759   0.0812 .  \n",
       "X3          -1.007e-01  9.998e-02   -1.007   0.3160    \n",
       "X4           2.810e+00  9.887e-03  284.252   <2e-16 ***\n",
       "X5          -1.972e-01  1.945e-01   -1.014   0.3128    \n",
       "X6           5.988e+00  7.560e-03  792.080   <2e-16 ***\n",
       "X7           1.157e-02  1.033e-02    1.120   0.2651    \n",
       "X8           2.921e-02  3.311e-02    0.882   0.3794    \n",
       "X9          -1.738e-02  3.021e-02   -0.575   0.5661    \n",
       "X10         -1.194e+01  1.886e-01  -63.302   <2e-16 ***\n",
       "X11         -1.454e-01  9.145e-02   -1.590   0.1145    \n",
       "X12         -2.601e+01  1.200e-01 -216.772   <2e-16 ***\n",
       "---\n",
       "Signif. codes:  0 ‘***’ 0.001 ‘**’ 0.01 ‘*’ 0.05 ‘.’ 0.1 ‘ ’ 1\n",
       "\n",
       "Residual standard error: 2.258 on 115 degrees of freedom\n",
       "Multiple R-squared:  0.9999,\tAdjusted R-squared:  0.9998 \n",
       "F-statistic: 6.826e+04 on 12 and 115 DF,  p-value: < 2.2e-16\n"
      ]
     },
     "metadata": {},
     "output_type": "display_data"
    }
   ],
   "source": [
    "FitAll = lm(Y ~ ., data = SWR)\n",
    "summary(FitAll)"
   ]
  },
  {
   "cell_type": "code",
   "execution_count": 16,
   "id": "b40360f0-60ee-4784-9518-3f26de4a8da1",
   "metadata": {},
   "outputs": [
    {
     "name": "stdout",
     "output_type": "stream",
     "text": [
      "Start:  AIC=220.74\n",
      "Y ~ X1 + X2 + X3 + X4 + X5 + X6 + X7 + X8 + X9 + X10 + X11 + \n",
      "    X12\n",
      "\n",
      "       Df Sum of Sq     RSS     AIC\n",
      "- X1    1         2     588  219.07\n",
      "- X9    1         2     588  219.11\n",
      "- X8    1         4     590  219.61\n",
      "- X3    1         5     591  219.87\n",
      "- X5    1         5     591  219.88\n",
      "- X7    1         6     592  220.13\n",
      "<none>                  586  220.74\n",
      "- X11   1        13     599  221.53\n",
      "- X2    1        16     602  222.14\n",
      "- X10   1     20422   21008  676.88\n",
      "- X12   1    239478  240064  988.69\n",
      "- X4    1    411780  412366 1057.94\n",
      "- X6    1   3197390 3197977 1320.13\n",
      "\n",
      "Step:  AIC=219.07\n",
      "Y ~ X2 + X3 + X4 + X5 + X6 + X7 + X8 + X9 + X10 + X11 + X12\n",
      "\n",
      "       Df Sum of Sq     RSS     AIC\n",
      "- X9    1         2     590  217.53\n",
      "- X8    1         4     591  217.88\n",
      "- X3    1         5     592  218.11\n",
      "- X5    1         5     593  218.15\n",
      "- X7    1         6     593  218.32\n",
      "<none>                  588  219.07\n",
      "- X11   1        13     600  219.81\n",
      "- X2    1        15     602  220.21\n",
      "- X10   1     22005   22593  684.19\n",
      "- X12   1    239741  240329  986.83\n",
      "- X4    1    416122  416709 1057.28\n",
      "- X6    1   3197423 3198011 1318.13\n",
      "\n",
      "Step:  AIC=217.53\n",
      "Y ~ X2 + X3 + X4 + X5 + X6 + X7 + X8 + X10 + X11 + X12\n",
      "\n",
      "       Df Sum of Sq     RSS     AIC\n",
      "- X8    1         3     593  216.25\n",
      "- X3    1         5     594  216.53\n",
      "- X5    1         5     594  216.55\n",
      "- X7    1         7     597  217.10\n",
      "<none>                  590  217.53\n",
      "- X11   1        12     602  218.10\n",
      "- X2    1        14     603  218.49\n",
      "- X10   1     22475   23065  684.84\n",
      "- X12   1    240461  241051  985.21\n",
      "- X4    1    431890  432480 1060.03\n",
      "- X6    1   3209316 3209906 1316.60\n",
      "\n",
      "Step:  AIC=216.25\n",
      "Y ~ X2 + X3 + X4 + X5 + X6 + X7 + X10 + X11 + X12\n",
      "\n",
      "       Df Sum of Sq     RSS     AIC\n",
      "- X5    1         4     597  215.19\n",
      "- X3    1         4     598  215.22\n",
      "- X7    1         6     600  215.64\n",
      "<none>                  593  216.25\n",
      "- X11   1        11     604  216.55\n",
      "- X2    1        15     608  217.42\n",
      "- X10   1     22513   23106  683.06\n",
      "- X12   1    243005  243598  984.56\n",
      "- X4    1    435329  435922 1059.05\n",
      "- X6    1   3219797 3220390 1315.02\n",
      "\n",
      "Step:  AIC=215.19\n",
      "Y ~ X2 + X3 + X4 + X6 + X7 + X10 + X11 + X12\n",
      "\n",
      "       Df Sum of Sq     RSS     AIC\n",
      "- X3    1         4     602  214.11\n",
      "- X7    1         7     604  214.69\n",
      "<none>                  597  215.19\n",
      "- X11   1        11     609  215.55\n",
      "- X2    1        16     614  216.60\n",
      "- X10   1     23264   23861  685.18\n",
      "- X12   1    246760  247357  984.52\n",
      "- X4    1    436921  437518 1057.52\n",
      "- X6    1   3248186 3248783 1314.15\n",
      "\n",
      "Step:  AIC=214.11\n",
      "Y ~ X2 + X4 + X6 + X7 + X10 + X11 + X12\n",
      "\n",
      "       Df Sum of Sq     RSS     AIC\n",
      "- X7    1         6     608  213.38\n",
      "<none>                  602  214.11\n",
      "- X11   1        12     614  214.63\n",
      "- X2    1        15     617  215.36\n",
      "- X10   1     23262   23864  683.19\n",
      "- X12   1    246934  247535  982.61\n",
      "- X4    1    444941  445543 1057.84\n",
      "- X6    1   3254016 3254618 1312.38\n",
      "\n",
      "Step:  AIC=213.38\n",
      "Y ~ X2 + X4 + X6 + X10 + X11 + X12\n",
      "\n",
      "       Df Sum of Sq     RSS     AIC\n",
      "<none>                  608  213.38\n",
      "- X11   1        11     618  213.63\n",
      "- X2    1        14     622  214.33\n",
      "- X10   1     23753   24360  683.83\n",
      "- X12   1    247389  247996  980.85\n",
      "- X4    1    444955  445563 1055.85\n",
      "- X6    1   3278411 3279019 1311.33\n"
     ]
    },
    {
     "data": {
      "text/plain": [
       "\n",
       "Call:\n",
       "lm(formula = Y ~ X2 + X4 + X6 + X10 + X11 + X12, data = SWR)\n",
       "\n",
       "Coefficients:\n",
       "(Intercept)           X2           X4           X6          X10          X11  \n",
       " 1410.27177     -0.06975      2.80806      5.98660    -11.97829     -0.13102  \n",
       "        X12  \n",
       "  -25.98121  \n"
      ]
     },
     "metadata": {},
     "output_type": "display_data"
    }
   ],
   "source": [
    "step(FitAll, direction = 'backward', scope = formula(FitAll))\n"
   ]
  },
  {
   "cell_type": "markdown",
   "id": "e8dacfe6-4a48-467f-91bc-3b3075178ad0",
   "metadata": {},
   "source": [
    "## Forward Selection"
   ]
  },
  {
   "cell_type": "code",
   "execution_count": 17,
   "id": "006d70c7-4220-410c-a82e-ee2c968c5131",
   "metadata": {},
   "outputs": [
    {
     "data": {
      "text/plain": [
       "\n",
       "Call:\n",
       "lm(formula = Y ~ 1, data = SWR)\n",
       "\n",
       "Residuals:\n",
       "    Min      1Q  Median      3Q     Max \n",
       "-481.25 -129.04   -5.43  138.24  519.84 \n",
       "\n",
       "Coefficients:\n",
       "            Estimate Std. Error t value Pr(>|t|)    \n",
       "(Intercept)   427.61      16.03   26.68   <2e-16 ***\n",
       "---\n",
       "Signif. codes:  0 ‘***’ 0.001 ‘**’ 0.01 ‘*’ 0.05 ‘.’ 0.1 ‘ ’ 1\n",
       "\n",
       "Residual standard error: 181.3 on 127 degrees of freedom\n"
      ]
     },
     "metadata": {},
     "output_type": "display_data"
    }
   ],
   "source": [
    "fitstart = lm(Y ~ 1, data = SWR)\n",
    "summary(fitstart)"
   ]
  },
  {
   "cell_type": "code",
   "execution_count": 18,
   "id": "ea1f46ee-789c-49e3-a52d-d2b2e4edbf63",
   "metadata": {},
   "outputs": [
    {
     "name": "stdout",
     "output_type": "stream",
     "text": [
      "Start:  AIC=1332.26\n",
      "Y ~ 1\n",
      "\n",
      "       Df Sum of Sq     RSS    AIC\n",
      "+ X6    1   3312523  862636 1132.4\n",
      "+ X12   1    565679 3609480 1315.6\n",
      "+ X4    1    340596 3834563 1323.4\n",
      "+ X2    1     88438 4086721 1331.5\n",
      "+ X5    1     77171 4097988 1331.9\n",
      "<none>              4175159 1332.3\n",
      "+ X9    1     39558 4135601 1333.0\n",
      "+ X7    1     39324 4135835 1333.0\n",
      "+ X1    1     15448 4159711 1333.8\n",
      "+ X3    1     10545 4164613 1333.9\n",
      "+ X10   1     10472 4164687 1333.9\n",
      "+ X11   1      4176 4170982 1334.1\n",
      "+ X8    1       741 4174418 1334.2\n",
      "\n",
      "Step:  AIC=1132.41\n",
      "Y ~ X6\n",
      "\n",
      "       Df Sum of Sq    RSS     AIC\n",
      "+ X4    1    584861 277775  989.36\n",
      "+ X12   1    392692 469944 1056.67\n",
      "+ X10   1     29736 832900 1129.92\n",
      "+ X8    1     14958 847678 1132.17\n",
      "<none>              862636 1132.41\n",
      "+ X3    1      9152 853483 1133.05\n",
      "+ X9    1      5341 857295 1133.62\n",
      "+ X11   1      5119 857517 1133.65\n",
      "+ X2    1       904 861732 1134.28\n",
      "+ X1    1       378 862258 1134.36\n",
      "+ X5    1        63 862573 1134.40\n",
      "+ X7    1        36 862600 1134.41\n",
      "\n",
      "Step:  AIC=989.36\n",
      "Y ~ X6 + X4\n",
      "\n",
      "       Df Sum of Sq    RSS    AIC\n",
      "+ X12   1    253398  24377 679.92\n",
      "+ X10   1     29109 248666 977.20\n",
      "<none>              277775 989.36\n",
      "+ X9    1      3191 274584 989.89\n",
      "+ X1    1      2837 274937 990.05\n",
      "+ X8    1      1778 275997 990.54\n",
      "+ X5    1      1133 276641 990.84\n",
      "+ X11   1       716 277059 991.03\n",
      "+ X3    1        59 277716 991.34\n",
      "+ X7    1         6 277769 991.36\n",
      "+ X2    1         2 277773 991.36\n",
      "\n",
      "Step:  AIC=679.92\n",
      "Y ~ X6 + X4 + X12\n",
      "\n",
      "       Df Sum of Sq     RSS    AIC\n",
      "+ X10   1   23743.9   632.6 214.51\n",
      "+ X1    1    1773.3 22603.2 672.25\n",
      "+ X5    1     833.8 23542.7 677.46\n",
      "+ X9    1     618.9 23757.6 678.62\n",
      "+ X7    1     496.2 23880.3 679.28\n",
      "<none>              24376.5 679.92\n",
      "+ X3    1      13.4 24363.1 681.85\n",
      "+ X2    1      12.5 24364.1 681.85\n",
      "+ X8    1       7.8 24368.7 681.88\n",
      "+ X11   1       3.9 24372.7 681.90\n",
      "\n",
      "Step:  AIC=214.51\n",
      "Y ~ X6 + X4 + X12 + X10\n",
      "\n",
      "       Df Sum of Sq    RSS    AIC\n",
      "+ X2    1   14.0691 618.49 213.63\n",
      "+ X11   1   10.7026 621.86 214.33\n",
      "<none>              632.56 214.51\n",
      "+ X5    1    6.2628 626.30 215.24\n",
      "+ X7    1    3.6564 628.90 215.77\n",
      "+ X3    1    3.5245 629.03 215.80\n",
      "+ X8    1    1.9282 630.63 216.12\n",
      "+ X9    1    0.9072 631.65 216.33\n",
      "+ X1    1    0.0021 632.56 216.51\n",
      "\n",
      "Step:  AIC=213.63\n",
      "Y ~ X6 + X4 + X12 + X10 + X2\n",
      "\n",
      "       Df Sum of Sq    RSS    AIC\n",
      "+ X11   1   10.7647 607.73 213.38\n",
      "<none>              618.49 213.63\n",
      "+ X5    1    5.0482 613.44 214.58\n",
      "+ X7    1    4.8165 613.67 214.63\n",
      "+ X3    1    4.0701 614.42 214.79\n",
      "+ X9    1    1.7577 616.73 215.27\n",
      "+ X8    1    1.2276 617.26 215.38\n",
      "+ X1    1    0.5054 617.98 215.53\n",
      "\n",
      "Step:  AIC=213.38\n",
      "Y ~ X6 + X4 + X12 + X10 + X2 + X11\n",
      "\n",
      "       Df Sum of Sq    RSS    AIC\n",
      "<none>              607.73 213.38\n",
      "+ X7    1    6.0187 601.71 214.11\n",
      "+ X5    1    4.7325 602.99 214.38\n",
      "+ X3    1    3.2840 604.44 214.69\n",
      "+ X9    1    2.6094 605.12 214.83\n",
      "+ X8    1    2.1408 605.58 214.93\n",
      "+ X1    1    0.6137 607.11 215.25\n"
     ]
    },
    {
     "data": {
      "text/plain": [
       "\n",
       "Call:\n",
       "lm(formula = Y ~ X6 + X4 + X12 + X10 + X2 + X11, data = SWR)\n",
       "\n",
       "Coefficients:\n",
       "(Intercept)           X6           X4          X12          X10           X2  \n",
       " 1410.27177      5.98660      2.80806    -25.98121    -11.97829     -0.06975  \n",
       "        X11  \n",
       "   -0.13102  \n"
      ]
     },
     "metadata": {},
     "output_type": "display_data"
    }
   ],
   "source": [
    "step(fitstart, direction = 'forward', scope = (formula(FitAll)))\n"
   ]
  },
  {
   "cell_type": "markdown",
   "id": "70c5ca0b-310d-415f-82e0-007cb2cb6b5b",
   "metadata": {},
   "source": [
    "## StepWise "
   ]
  },
  {
   "cell_type": "code",
   "execution_count": 20,
   "id": "98b8c636-ffe7-47b2-837d-288983229219",
   "metadata": {},
   "outputs": [
    {
     "name": "stdout",
     "output_type": "stream",
     "text": [
      "Start:  AIC=1332.26\n",
      "Y ~ 1\n",
      "\n",
      "       Df Sum of Sq     RSS    AIC\n",
      "+ X6    1   3312523  862636 1132.4\n",
      "+ X12   1    565679 3609480 1315.6\n",
      "+ X4    1    340596 3834563 1323.4\n",
      "+ X2    1     88438 4086721 1331.5\n",
      "+ X5    1     77171 4097988 1331.9\n",
      "<none>              4175159 1332.3\n",
      "+ X9    1     39558 4135601 1333.0\n",
      "+ X7    1     39324 4135835 1333.0\n",
      "+ X1    1     15448 4159711 1333.8\n",
      "+ X3    1     10545 4164613 1333.9\n",
      "+ X10   1     10472 4164687 1333.9\n",
      "+ X11   1      4176 4170982 1334.1\n",
      "+ X8    1       741 4174418 1334.2\n",
      "\n",
      "Step:  AIC=1132.41\n",
      "Y ~ X6\n",
      "\n",
      "       Df Sum of Sq     RSS     AIC\n",
      "+ X4    1    584861  277775  989.36\n",
      "+ X12   1    392692  469944 1056.67\n",
      "+ X10   1     29736  832900 1129.92\n",
      "+ X8    1     14958  847678 1132.17\n",
      "<none>               862636 1132.41\n",
      "+ X3    1      9152  853483 1133.05\n",
      "+ X9    1      5341  857295 1133.62\n",
      "+ X11   1      5119  857517 1133.65\n",
      "+ X2    1       904  861732 1134.28\n",
      "+ X1    1       378  862258 1134.36\n",
      "+ X5    1        63  862573 1134.40\n",
      "+ X7    1        36  862600 1134.41\n",
      "- X6    1   3312523 4175159 1332.26\n",
      "\n",
      "Step:  AIC=989.36\n",
      "Y ~ X6 + X4\n",
      "\n",
      "       Df Sum of Sq     RSS     AIC\n",
      "+ X12   1    253398   24377  679.92\n",
      "+ X10   1     29109  248666  977.20\n",
      "<none>               277775  989.36\n",
      "+ X9    1      3191  274584  989.89\n",
      "+ X1    1      2837  274937  990.05\n",
      "+ X8    1      1778  275997  990.54\n",
      "+ X5    1      1133  276641  990.84\n",
      "+ X11   1       716  277059  991.03\n",
      "+ X3    1        59  277716  991.34\n",
      "+ X7    1         6  277769  991.36\n",
      "+ X2    1         2  277773  991.36\n",
      "- X4    1    584861  862636 1132.41\n",
      "- X6    1   3556788 3834563 1323.36\n",
      "\n",
      "Step:  AIC=679.92\n",
      "Y ~ X6 + X4 + X12\n",
      "\n",
      "       Df Sum of Sq     RSS     AIC\n",
      "+ X10   1     23744     633  214.51\n",
      "+ X1    1      1773   22603  672.25\n",
      "+ X5    1       834   23543  677.46\n",
      "+ X9    1       619   23758  678.62\n",
      "+ X7    1       496   23880  679.28\n",
      "<none>                24377  679.92\n",
      "+ X3    1        13   24363  681.85\n",
      "+ X2    1        12   24364  681.85\n",
      "+ X8    1         8   24369  681.88\n",
      "+ X11   1         4   24373  681.90\n",
      "- X12   1    253398  277775  989.36\n",
      "- X4    1    445568  469944 1056.67\n",
      "- X6    1   3366659 3391035 1309.63\n",
      "\n",
      "Step:  AIC=214.51\n",
      "Y ~ X6 + X4 + X12 + X10\n",
      "\n",
      "       Df Sum of Sq     RSS     AIC\n",
      "+ X2    1        14     618  213.63\n",
      "+ X11   1        11     622  214.33\n",
      "<none>                  633  214.51\n",
      "+ X5    1         6     626  215.24\n",
      "+ X7    1         4     629  215.77\n",
      "+ X3    1         4     629  215.80\n",
      "+ X8    1         2     631  216.12\n",
      "+ X9    1         1     632  216.33\n",
      "+ X1    1         0     633  216.51\n",
      "- X10   1     23744   24377  679.92\n",
      "- X12   1    248034  248666  977.20\n",
      "- X4    1    446238  446871 1052.22\n",
      "- X6    1   3374711 3375344 1311.04\n",
      "\n",
      "Step:  AIC=213.63\n",
      "Y ~ X6 + X4 + X12 + X10 + X2\n",
      "\n",
      "       Df Sum of Sq     RSS     AIC\n",
      "+ X11   1        11     608  213.38\n",
      "<none>                  618  213.63\n",
      "- X2    1        14     633  214.51\n",
      "+ X5    1         5     613  214.58\n",
      "+ X7    1         5     614  214.63\n",
      "+ X3    1         4     614  214.79\n",
      "+ X9    1         2     617  215.27\n",
      "+ X8    1         1     617  215.38\n",
      "+ X1    1         1     618  215.53\n",
      "- X10   1     23746   24364  681.85\n",
      "- X12   1    248002  248620  979.17\n",
      "- X4    1    445781  446399 1054.09\n",
      "- X6    1   3295500 3296118 1310.00\n",
      "\n",
      "Step:  AIC=213.38\n",
      "Y ~ X6 + X4 + X12 + X10 + X2 + X11\n",
      "\n",
      "       Df Sum of Sq     RSS     AIC\n",
      "<none>                  608  213.38\n",
      "- X11   1        11     618  213.63\n",
      "+ X7    1         6     602  214.11\n",
      "- X2    1        14     622  214.33\n",
      "+ X5    1         5     603  214.38\n",
      "+ X3    1         3     604  214.69\n",
      "+ X9    1         3     605  214.83\n",
      "+ X8    1         2     606  214.93\n",
      "+ X1    1         1     607  215.26\n",
      "- X10   1     23753   24360  683.83\n",
      "- X12   1    247389  247996  980.85\n",
      "- X4    1    444955  445563 1055.85\n",
      "- X6    1   3278411 3279019 1311.33\n"
     ]
    },
    {
     "data": {
      "text/plain": [
       "\n",
       "Call:\n",
       "lm(formula = Y ~ X6 + X4 + X12 + X10 + X2 + X11, data = SWR)\n",
       "\n",
       "Coefficients:\n",
       "(Intercept)           X6           X4          X12          X10           X2  \n",
       " 1410.27177      5.98660      2.80806    -25.98121    -11.97829     -0.06975  \n",
       "        X11  \n",
       "   -0.13102  \n"
      ]
     },
     "metadata": {},
     "output_type": "display_data"
    }
   ],
   "source": [
    "step(fitstart, direction = 'both', scope = formula(FitAll))\n"
   ]
  },
  {
   "cell_type": "code",
   "execution_count": 22,
   "id": "98d9775c-4d56-47e0-ac5e-f13ca2e5ca03",
   "metadata": {},
   "outputs": [
    {
     "data": {
      "text/plain": [
       "\n",
       "Call:\n",
       "lm(formula = Y ~ X2 + X4 + X6 + X10 + X11 + X12, data = SWR)\n",
       "\n",
       "Residuals:\n",
       "    Min      1Q  Median      3Q     Max \n",
       "-5.3190 -1.7438 -0.0897  1.7094  5.3882 \n",
       "\n",
       "Coefficients:\n",
       "              Estimate Std. Error  t value Pr(>|t|)    \n",
       "(Intercept)  1.410e+03  1.320e+01  106.815   <2e-16 ***\n",
       "X2          -6.975e-02  4.158e-02   -1.677   0.0961 .  \n",
       "X4           2.808e+00  9.434e-03  297.644   <2e-16 ***\n",
       "X6           5.987e+00  7.410e-03  807.924   <2e-16 ***\n",
       "X10         -1.198e+01  1.742e-01  -68.769   <2e-16 ***\n",
       "X11         -1.310e-01  8.950e-02   -1.464   0.1458    \n",
       "X12         -2.598e+01  1.171e-01 -221.937   <2e-16 ***\n",
       "---\n",
       "Signif. codes:  0 ‘***’ 0.001 ‘**’ 0.01 ‘*’ 0.05 ‘.’ 0.1 ‘ ’ 1\n",
       "\n",
       "Residual standard error: 2.241 on 121 degrees of freedom\n",
       "Multiple R-squared:  0.9999,\tAdjusted R-squared:  0.9998 \n",
       "F-statistic: 1.385e+05 on 6 and 121 DF,  p-value: < 2.2e-16\n"
      ]
     },
     "metadata": {},
     "output_type": "display_data"
    }
   ],
   "source": [
    "fitsome <- lm(formula = Y ~ X2 + X4 + X6 + X10 + X11 + X12, data = SWR)\n",
    "summary(fitsome)"
   ]
  },
  {
   "cell_type": "code",
   "execution_count": null,
   "id": "ff2d82a2-77a6-4805-b0a7-40633eb00015",
   "metadata": {},
   "outputs": [],
   "source": []
  }
 ],
 "metadata": {
  "kernelspec": {
   "display_name": "R",
   "language": "R",
   "name": "ir"
  },
  "language_info": {
   "codemirror_mode": "r",
   "file_extension": ".r",
   "mimetype": "text/x-r-source",
   "name": "R",
   "pygments_lexer": "r",
   "version": "4.2.1"
  }
 },
 "nbformat": 4,
 "nbformat_minor": 5
}
